{
 "cells": [
  {
   "cell_type": "code",
   "execution_count": 1,
   "id": "417b45a3",
   "metadata": {},
   "outputs": [
    {
     "name": "stdout",
     "output_type": "stream",
     "text": [
      "[19, 19, 20, 22, 24, 24, 24, 25, 25, 26]\n",
      "19\n",
      "26\n",
      "[19, 19, 20, 22, 24, 24, 24, 25, 25, 26, 19, 26]\n",
      "24.0\n",
      "22.75\n",
      "7\n"
     ]
    }
   ],
   "source": [
    "#1st Question\n",
    "\n",
    "import statistics\n",
    "ages = [19, 22, 19, 24, 20, 25, 26, 24, 25, 24]\n",
    "ages.sort()      # gives the sorted format\n",
    "print(ages)\n",
    "print(min(ages)) # minimum in the list\n",
    "print(max(ages)) # maximum in the list\n",
    "ages.append(min(ages)) # adding min value to the list\n",
    "ages.append(max(ages)) # adding max value to the list\n",
    "print(ages)            # printing the latest list\n",
    "median_age = statistics.median(ages)\n",
    "print(median_age)      # median of the list\n",
    "average_age = statistics.mean(ages)\n",
    "print(average_age)     # average of the list\n",
    "range = (max(ages)-min(ages))  # for finding the range\n",
    "print(range)"
   ]
  },
  {
   "cell_type": "code",
   "execution_count": 19,
   "id": "3bc38d7a",
   "metadata": {},
   "outputs": [
    {
     "name": "stdout",
     "output_type": "stream",
     "text": [
      "8\n",
      "6\n",
      "<class 'list'>\n",
      "The Total no of values along with Added values in the List are: {'first_name': 'RSG', 'last_name': 'Akula', 'gender': 'Male', 'age': 24, 'martial status': 'Single', 'skills': ['creative', 'Disciplined', 'Leadership', 'Badminton'], 'country': 'USA', 'city': 'Overland Park', 'address': '8601 W 131st Ter Overland Prk Kansas 66213'}\n",
      "dict_keys(['first_name', 'last_name', 'gender', 'age', 'martial status', 'skills', 'country', 'city', 'address'])\n",
      "dict_values(['RSG', 'Akula', 'Male', 24, 'Single', ['creative', 'Disciplined'], 'USA', 'Overland Park', '8601 W 131st Ter Overland Prk Kansas 66213'])\n"
     ]
    }
   ],
   "source": [
    "#2nd Question\n",
    "\n",
    "dog = {'name', 'color', 'breed', 'legs', 'age' }\n",
    "student = ['first_name', 'last_name', 'gender', 'age', 'marital status', 'skills', 'country', 'city' 'address']\n",
    "print(len(student))\n",
    "skills = 'leadership'\n",
    "print(len('skills'))\n",
    "print(type(student))   # to get the datatype of student\n",
    "MyDict={'first_name':'RSG', 'last_name':'Akula' , 'gender':'Male', 'age':24, 'martial status':\"Single\", 'skills':['creative','Disciplined'],'country':'USA', 'city': 'Overland Park', 'address':'8601 W 131st Ter Overland Prk Kansas 66213'}\n",
    "MyDict['skills'].append('Leadership')   #This is the First value which is added to the list\n",
    "MyDict['skills'].append('Badminton')    #This is the Second one \n",
    "print(\"The Total no of values along with Added values in the List are:\",MyDict)\n",
    "MyDict={'first_name':'RSG', 'last_name':'Akula' , 'gender':'Male', 'age':24, 'martial status':\"Single\", 'skills':['creative','Disciplined'],'country':'USA', 'city': 'Overland Park', 'address':'8601 W 131st Ter Overland Prk Kansas 66213'}\n",
    "print(MyDict.keys())#Here we are accesing keys from MyDict\n",
    "print(MyDict.values())#Here we have got Dictionary values as a list"
   ]
  },
  {
   "cell_type": "code",
   "execution_count": 20,
   "id": "2ac7709a",
   "metadata": {},
   "outputs": [
    {
     "name": "stdout",
     "output_type": "stream",
     "text": [
      "<class 'tuple'>\n",
      "The People in the Tuple are : ('krishna', 'katrina')\n",
      "The People in the Tuple are: ('sai', 'vinay')\n",
      "my Sibilings are : ('krishna', 'katrina', 'sai', 'vinay')\n",
      "4\n",
      "('Ram', 'Seetha')\n",
      "('krishna', 'katrina', 'sai', 'vinay', 'Ram', 'Seetha')\n"
     ]
    }
   ],
   "source": [
    "#3rd Question\n",
    "\n",
    "tuple =('krishna','katrina')\n",
    "print(type(tuple))\n",
    "print(\"The People in the Tuple are :\",tuple)\n",
    "tup =(\"sai\",\"vinay\")\n",
    "print(\"The People in the Tuple are:\",tup)\n",
    "sibilings = tuple+tup\n",
    "print(\"my Sibilings are :\",sibilings)\n",
    "print(len(sibilings))\n",
    "MyParents=(\"Ram\",\"Seetha\")\n",
    "print(MyParents)\n",
    "family = sibilings+MyParents\n",
    "print(family)"
   ]
  },
  {
   "cell_type": "code",
   "execution_count": 22,
   "id": "458addf1",
   "metadata": {},
   "outputs": [
    {
     "name": "stdout",
     "output_type": "stream",
     "text": [
      "7\n",
      "It Companies are : {'Facebook', 'Apple', 'Oracle', 'Amazon', 'Microsoft', 'Twitter', 'IBM', 'Google'}\n",
      "Names of the Multiple Company names which are added to the Original One : {'Apple', 'DBS', 'Twitter', 'NCR', 'TCS', 'Microsoft', 'Infosys', 'Google', 'Facebook', 'Oracle', 'Amazon', 'IBM'}\n",
      "Joining the sets of A and will be : {19, 20, 22, 24, 25, 26, 27, 28}\n",
      "Intersection of the sets A and B is : {19, 20, 22, 24, 25, 26}\n",
      "Finding Whether A is Subset of B? (T/F): True\n",
      "Finding Whether A and B are Disjoint sets or not? False\n",
      "The Symmetric difference between the two sets A And are: {27, 28}\n",
      "<class 'list'>\n",
      "{19, 20, 22, 24, 25, 26}\n",
      "<class 'list'>\n",
      "After Inserting Items of B into A : {19, 20, 22, 24, 25, 26, 27, 28}\n",
      "After Inserting Items of A into B : {19, 20, 22, 24, 25, 26, 27, 28}\n",
      "The Lenght of list and set are not same\n"
     ]
    },
    {
     "ename": "NameError",
     "evalue": "name 'A' is not defined",
     "output_type": "error",
     "traceback": [
      "\u001b[1;31m---------------------------------------------------------------------------\u001b[0m",
      "\u001b[1;31mNameError\u001b[0m                                 Traceback (most recent call last)",
      "Input \u001b[1;32mIn [22]\u001b[0m, in \u001b[0;36m<cell line: 35>\u001b[1;34m()\u001b[0m\n\u001b[0;32m     33\u001b[0m     \u001b[38;5;28mprint\u001b[39m(\u001b[38;5;124m\"\u001b[39m\u001b[38;5;124mThe Lenght of list and set are not same\u001b[39m\u001b[38;5;124m\"\u001b[39m)\n\u001b[0;32m     34\u001b[0m \u001b[38;5;28;01mdel\u001b[39;00m A\n\u001b[1;32m---> 35\u001b[0m \u001b[38;5;28mprint\u001b[39m(\u001b[43mA\u001b[49m)\u001b[38;5;66;03m#Error\u001b[39;00m\n\u001b[0;32m     36\u001b[0m \u001b[38;5;28;01mdel\u001b[39;00m B\n\u001b[0;32m     37\u001b[0m \u001b[38;5;28mprint\u001b[39m(B)\n",
      "\u001b[1;31mNameError\u001b[0m: name 'A' is not defined"
     ]
    }
   ],
   "source": [
    "#4th Question\n",
    "\n",
    "it_companies = {'Facebook', 'Google', 'Microsoft', 'Apple', 'IBM', 'Oracle', 'Amazon'}\n",
    "print(len(it_companies))\n",
    "it_companies.add(\"Twitter\")\n",
    "print(\"It Companies are :\",it_companies)#Here in Set while adding the items in it, it randomly allocates its place anywhere in the set\n",
    "it_companies.update([\"DBS\",\"NCR\",\"TCS\",\"Infosys\"])#Here in Set as add() only supports only one argument we woiuld be using update() to add multiple items\n",
    "print(\"Names of the Multiple Company names which are added to the Original One :\",it_companies)\n",
    "it_companies.remove(\"Twitter\")#Here for removing a particualr element we would be using remove() ,to remove a random element we would be using pop() method\n",
    "A = {19, 22, 24, 20, 25, 26}\n",
    "B = {19, 22, 20, 25, 26, 24, 28, 27}\n",
    "Res=A.union(B)\n",
    "print(\"Joining the sets of A and will be :\",Res)#Here Union Combines all the elements in the two sets which doesnt include the duplicates in both of the sets\n",
    "Res1=A.intersection(B)\n",
    "print(\"Intersection of the sets A and B is :\",Res1)#It returns the common items present in the two sets\n",
    "print(\"Finding Whether A is Subset of B? (T/F):\",A.issubset(B))#Here as all the elements in  A are in B we can say that A is Subset of B,if it isnt true then issubset() return false basically it returns Boolean Values based on the Context\n",
    "print(\"Finding Whether A and B are Disjoint sets or not?\",A.isdisjoint(B))#Here it is false because there are similar items that are present in the both of the sets.The main Criteria for Disjoint Sets is that it shouldn't have common items present.\n",
    "print(\"The Symmetric difference between the two sets A And are:\",B.symmetric_difference(A))\n",
    "#It Basically caluculates{(A\\B)∪(B\\A)} to find Symmetric Difference\n",
    "ages = [19, 22, 19, 24, 20, 25, 26, 24, 25, 24]\n",
    "print(type(ages))\n",
    "print(set(ages))#Converting List ages[] to Set\n",
    "print(type(ages))#List Converted to set.\n",
    "#Inserting items of  Set B into Set A\n",
    "A.update(B)\n",
    "print(\"After Inserting Items of B into A :\",A)\n",
    "B.update(A)\n",
    "print(\"After Inserting Items of A into B :\",B)\n",
    "#Below is the code for comparing the lenght for both list and set.\n",
    "if len(ages)==len(A):\n",
    "    print(\"Both the set and List are having same no of items i.e Lenght\")\n",
    "else:\n",
    "    print(\"The Lenght of list and set are not same\")\n",
    "del A\n",
    "print(A)#Error\n",
    "del B\n",
    "print(B)"
   ]
  },
  {
   "cell_type": "code",
   "execution_count": 18,
   "id": "f1213a6f",
   "metadata": {},
   "outputs": [
    {
     "name": "stdout",
     "output_type": "stream",
     "text": [
      "Area of Circle is: 2826.0\n",
      "The Circumference of the Circle  is: 188.4\n"
     ]
    }
   ],
   "source": [
    "#5th Question\n",
    "\n",
    "def AreaOfCircle(radius):\n",
    "    _area_of_circle_= 3.14*radius*radius\n",
    "    print(\"Area of Circle is:\",_area_of_circle_)\n",
    "def CircumOfCircle(radius):\n",
    "    _circum_of_circle_ = 2*3.14*radius\n",
    "    return _circum_of_circle_ #Return the Circum Value\n",
    "AreaOfCircle(30)\n",
    "Circum=CircumOfCircle(30)    #this holds the circumference value of the circle\n",
    "print(\"The Circumference of the Circle  is:\",Circum)"
   ]
  },
  {
   "cell_type": "code",
   "execution_count": 19,
   "id": "46065777",
   "metadata": {},
   "outputs": [
    {
     "name": "stdout",
     "output_type": "stream",
     "text": [
      "Enter the radius for the Circle: 28\n",
      "Area of Circle is: 2461.76\n"
     ]
    }
   ],
   "source": [
    "Input_radius=int(input(\"Enter the radius for the Circle: \"))#Here we are converting the string input to Integer by doing Type_Casting\n",
    "def AreaOfCircle(radius):\n",
    "    _area_of_circle_= 3.14*radius*radius\n",
    "    print(\"Area of Circle is:\",_area_of_circle_)\n",
    "AreaOfCircle(Input_radius)"
   ]
  },
  {
   "cell_type": "code",
   "execution_count": 20,
   "id": "deec869a",
   "metadata": {},
   "outputs": [
    {
     "name": "stdout",
     "output_type": "stream",
     "text": [
      "Firstly Enter the String/Sentence :rahul\n",
      "{'h', 'r', 'l', 'u', 'a'}\n",
      "Result after Split is: ['rahul']\n"
     ]
    }
   ],
   "source": [
    "#6th Question\n",
    "\n",
    "string = input(\"Firstly Enter the String/Sentence :\")\n",
    "Res = set(string)#set returns the unique items in the String as it is immutable we have to store it in the variable\n",
    "print(Res)#creates set and include items\n",
    "Res1=list(string.split())#Here i have used split() to divide the words and casted to store them in the form of a List.\n",
    "print(\"Result after Split is:\" ,Res1)\n"
   ]
  },
  {
   "cell_type": "code",
   "execution_count": 12,
   "id": "8deb32ac",
   "metadata": {},
   "outputs": [
    {
     "name": "stdout",
     "output_type": "stream",
     "text": [
      "Name \t        Age\tCountry\t City\n",
      "Asabeneh\t250 \tFinland\t Helsinki\n"
     ]
    }
   ],
   "source": [
    "#7th Question\n",
    "\n",
    "#Using Tab Escape Sequence character\n",
    "#Name Age Country City\n",
    " #Sai  30  USA    Kansas\n",
    "print('Name \\t        Age\\tCountry\\t City\\nAsabeneh\\t250 \\tFinland\\t Helsinki')"
   ]
  },
  {
   "cell_type": "code",
   "execution_count": 13,
   "id": "4bdd2538",
   "metadata": {},
   "outputs": [
    {
     "name": "stdout",
     "output_type": "stream",
     "text": [
      "radius = 5\n",
      "area = 3.14*radius**2\n",
      "The area of circle with a radius 5 is 78 square meter.\n"
     ]
    }
   ],
   "source": [
    "#8th Question\n",
    "\n",
    "radius = 5\n",
    "area = 3.14 * radius ** 2  #Here %d represents the integer that to be displayed\n",
    "formated_string = \"radius = %d\\narea = 3.14*radius**%d\\nThe area of circle with a radius %d is %d square meter.\" %(radius,2,radius,area)\n",
    "print(formated_string)"
   ]
  },
  {
   "cell_type": "code",
   "execution_count": 18,
   "id": "5f6f1dfc",
   "metadata": {},
   "outputs": [
    {
     "name": "stdout",
     "output_type": "stream",
     "text": [
      "Enter the List size for Conversion:4\n",
      "Enter weights(lbs) of N students150\n",
      "Enter weights(lbs) of N students155\n",
      "Enter weights(lbs) of N students145\n",
      "Enter weights(lbs) of N students148\n",
      "[68.02721088435374, 70.29478458049887, 65.75963718820861, 67.12018140589569]\n",
      "[150, 155, 145, 148]\n"
     ]
    }
   ],
   "source": [
    "#9th Question\n",
    "\n",
    "#L1: [150, 155, 145, 148](input)\n",
    "#Output: [68.03, 70.3, 65.77, 67.13]\n",
    "LBS = []   #Empty List\n",
    "S = int(input(\"Enter the List size for Conversion:\"))  #Asking for the input\n",
    "for K in range(S):\n",
    "    StudentWeights = int(input(\"Enter weights(lbs) of N students\"))\n",
    "    LBS.append(StudentWeights)#Appending the weigths into the LBS[]\n",
    "KGS=[[]] * S\n",
    "for K in range(S):\n",
    "    KGS[K] = LBS[K]/2.205\n",
    "print(KGS)\n",
    "print(LBS)"
   ]
  },
  {
   "cell_type": "code",
   "execution_count": null,
   "id": "bbf1dd10",
   "metadata": {},
   "outputs": [],
   "source": [
    "\n",
    "\n"
   ]
  },
  {
   "cell_type": "code",
   "execution_count": null,
   "id": "8254a8c2",
   "metadata": {},
   "outputs": [],
   "source": []
  }
 ],
 "metadata": {
  "kernelspec": {
   "display_name": "Python 3 (ipykernel)",
   "language": "python",
   "name": "python3"
  },
  "language_info": {
   "codemirror_mode": {
    "name": "ipython",
    "version": 3
   },
   "file_extension": ".py",
   "mimetype": "text/x-python",
   "name": "python",
   "nbconvert_exporter": "python",
   "pygments_lexer": "ipython3",
   "version": "3.9.12"
  }
 },
 "nbformat": 4,
 "nbformat_minor": 5
}
